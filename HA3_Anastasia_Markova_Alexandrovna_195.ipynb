{
 "cells": [
  {
   "cell_type": "code",
   "execution_count": 19,
   "metadata": {},
   "outputs": [
    {
     "name": "stdout",
     "output_type": "stream",
     "text": [
      "4 0 5 0 3 0 0 5\n",
      "[4, 5, 3, 5, 0, 0, 0, 0]\n"
     ]
    }
   ],
   "source": [
    "# 1\n",
    "\n",
    "array = [int(x) for x in input().split()]\n",
    "\n",
    "def compress_list(array):\n",
    "    count = 0 \n",
    "    n = len(array)\n",
    "\n",
    "    for i in range(n): \n",
    "        if array[i] != 0: \n",
    "            array[count], array[i] = array[i], array[count]\n",
    "            count += 1\n",
    "\n",
    "    print(array)\n",
    "    \n",
    "compress_list(array)"
   ]
  },
  {
   "cell_type": "code",
   "execution_count": 12,
   "metadata": {},
   "outputs": [
    {
     "name": "stdout",
     "output_type": "stream",
     "text": [
      "McCain 10\n",
      "McCain 5\n",
      "Obama 9\n",
      "Obama 8\n",
      "McCain 1\n",
      "-1\n",
      "McCain 16\n",
      "Obama 17\n"
     ]
    }
   ],
   "source": [
    "# 2\n",
    "\n",
    "input_lines = []\n",
    "candidate = input()\n",
    "while candidate != \"-1\":\n",
    "    input_lines.append(candidate)\n",
    "    candidate = input()\n",
    "        \n",
    "def count_votes(input_lines):\n",
    "    res = {}\n",
    "    for s in input_lines:\n",
    "        votes = s.split()\n",
    "        if (votes[0] not in res):\n",
    "            res[votes[0]] = 0\n",
    "        res[votes[0]] += int(votes[1])\n",
    "    res = sorted(res.items(), key=lambda item: item[0])\n",
    "    for t in res:\n",
    "        print(t[0], t[1])\n",
    "\n",
    "count_votes(input_lines)"
   ]
  },
  {
   "cell_type": "code",
   "execution_count": 14,
   "metadata": {},
   "outputs": [
    {
     "name": "stdout",
     "output_type": "stream",
     "text": [
      "1 2 3 2 3\n",
      "2\n"
     ]
    }
   ],
   "source": [
    "# 3\n",
    "\n",
    "array = [int(x) for x in input().split()]\n",
    "\n",
    "def count_pairs(array):\n",
    "    num = 0\n",
    "    for i in range(len(array)):\n",
    "        for y in range(i + 1, len(array)):\n",
    "            if (array[i] == array[y]):\n",
    "                num += 1\n",
    "    print(num)\n",
    "\n",
    "count_pairs(array)"
   ]
  },
  {
   "cell_type": "code",
   "execution_count": 15,
   "metadata": {},
   "outputs": [
    {
     "name": "stdout",
     "output_type": "stream",
     "text": [
      "1 1 1 1 1\n",
      "10\n"
     ]
    }
   ],
   "source": [
    "array = [int(x) for x in input().split()]\n",
    "count_pairs(array)"
   ]
  },
  {
   "cell_type": "code",
   "execution_count": 23,
   "metadata": {},
   "outputs": [
    {
     "name": "stdout",
     "output_type": "stream",
     "text": [
      "India Austria India Italy Austria India\n",
      "['India']\n"
     ]
    }
   ],
   "source": [
    "# 4\n",
    "\n",
    "countries = [x for x in input().split()]\n",
    "\n",
    "def most_frequent_countries(countries):\n",
    "    res = {}\n",
    "    for с in countries:\n",
    "        if (с not in res):\n",
    "            res[с] = 0\n",
    "        res[с] += 1\n",
    "    print([k for k, v in res.items() if v == max(res.values())])\n",
    "    \n",
    "most_frequent_countries(countries)"
   ]
  },
  {
   "cell_type": "code",
   "execution_count": 24,
   "metadata": {},
   "outputs": [
    {
     "name": "stdout",
     "output_type": "stream",
     "text": [
      "Germany Poland Russia Germany France Russia\n",
      "['Germany', 'Russia']\n"
     ]
    }
   ],
   "source": [
    "countries = [x for x in input().split()]\n",
    "most_frequent_countries(countries)"
   ]
  },
  {
   "cell_type": "code",
   "execution_count": 30,
   "metadata": {},
   "outputs": [
    {
     "name": "stdout",
     "output_type": "stream",
     "text": [
      "1 7 2 4 3 2 4 8 5 6 6 1 7 3 8 5\n",
      "NO\n"
     ]
    }
   ],
   "source": [
    "# 5\n",
    "\n",
    "input_lines = []\n",
    "coordinate = input().split()\n",
    "for i in range(8):\n",
    "    input_lines.append((int(coordinate[i * 2]), int(coordinate[i * 2 + 1])))\n",
    "    \n",
    "def is_beaten_by_queen(input_lines):\n",
    "    flag = False\n",
    "    for i in range(len(input_lines)):\n",
    "        t1 = input_lines[i]\n",
    "        for y in range(i + 1, len(input_lines)):\n",
    "            t2 = input_lines[y]\n",
    "            if (t1[0] == t2[0] or t1[1] == t2[1] or abs(t1[0] - t2[0]) == abs(t1[1] - t2[1])):\n",
    "                flag = True\n",
    "                break\n",
    "        if flag:\n",
    "            break\n",
    "    if flag:\n",
    "        print('YES')\n",
    "    else:\n",
    "        print('NO')\n",
    "\n",
    "is_beaten_by_queen(input_lines)"
   ]
  },
  {
   "cell_type": "code",
   "execution_count": 31,
   "metadata": {},
   "outputs": [
    {
     "name": "stdout",
     "output_type": "stream",
     "text": [
      "1 8 2 7 3 6 4 5 5 4 6 3 7 2 8 1\n",
      "YES\n"
     ]
    }
   ],
   "source": [
    "input_lines = []\n",
    "coordinate = input().split()\n",
    "for i in range(8):\n",
    "    input_lines.append((int(coordinate[i * 2]), int(coordinate[i * 2 + 1])))\n",
    "\n",
    "is_beaten_by_queen(input_lines)"
   ]
  },
  {
   "cell_type": "code",
   "execution_count": null,
   "metadata": {},
   "outputs": [],
   "source": []
  }
 ],
 "metadata": {
  "kernelspec": {
   "display_name": "Python 3",
   "language": "python",
   "name": "python3"
  },
  "language_info": {
   "codemirror_mode": {
    "name": "ipython",
    "version": 3
   },
   "file_extension": ".py",
   "mimetype": "text/x-python",
   "name": "python",
   "nbconvert_exporter": "python",
   "pygments_lexer": "ipython3",
   "version": "3.8.5"
  }
 },
 "nbformat": 4,
 "nbformat_minor": 2
}
